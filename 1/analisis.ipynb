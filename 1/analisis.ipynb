{
 "cells": [
  {
   "cell_type": "markdown",
   "metadata": {},
   "source": [
    "#### importar librerias"
   ]
  },
  {
   "cell_type": "code",
   "execution_count": 96,
   "metadata": {},
   "outputs": [],
   "source": [
    "# pip install notebook jupyter ipykernel\n",
    "import os\n",
    "import openpyxl\n",
    "import csv\n",
    "import pandas as pd\n",
    "import numpy as np\n",
    "import missingno as msno\n",
    "import matplotlib.pyplot as plt\n",
    "import seaborn as sns\n",
    "from matplotlib import style\n",
    "plt.style.use('ggplot')\n",
    "import statsmodels.api as sm\n",
    "from scipy import stats\n",
    "from sklearn.preprocessing import MinMaxScaler, StandardScaler, LabelEncoder\n",
    "from sklearn.utils import resample\n",
    "from scipy.stats import normaltest"
   ]
  },
  {
   "cell_type": "markdown",
   "metadata": {},
   "source": [
    "#### funciones"
   ]
  },
  {
   "cell_type": "code",
   "execution_count": 97,
   "metadata": {},
   "outputs": [],
   "source": [
    "def importar_data(ruta, archivo, ext):\n",
    "    \"\"\"\n",
    "    Importa datos desde un archivo .csv o .xlsx y los almacena en un DataFrame.\n",
    "    \"\"\"\n",
    "    try:\n",
    "        ruta_completa = os.path.join(ruta, archivo + ext)\n",
    "\n",
    "        if ext == '.csv':\n",
    "            return pd.read_csv(ruta_completa)\n",
    "        elif ext == '.xlsx':\n",
    "            return pd.read_excel(ruta_completa)\n",
    "        else:\n",
    "            raise ValueError(\"Extensión no válida. Usa .csv o .xlsx\")\n",
    "    \n",
    "    except FileNotFoundError:\n",
    "        print(f\"Error: No se encontró el archivo {ruta_completa}\")\n",
    "        return None\n",
    "    except Exception as e:\n",
    "        print(f\"Error al importar el archivo: {e}\")\n",
    "        return None\n",
    "\n",
    "def datos_NA(df):\n",
    "    \"\"\"\n",
    "    Función para identificar datos NA\n",
    "    \n",
    "    identifica el nombre de la columna, tipo de dato, número de valores distintos y valores NA\n",
    "    además, verifica si df es un DataFrame antes de procesarlo.\n",
    "    \"\"\"\n",
    "    if not isinstance(df, pd.DataFrame):\n",
    "        print(f\"Se esperaba un DataFrame, pero se recibió {type(df)}\")\n",
    "        return None\n",
    "\n",
    "    print(f\"\\nDimensiones: {df.shape[0]} filas, {df.shape[1]} columnas\")\n",
    "    print(f\"Total Valores NA: {df.isna().sum().sum()}\\n\")\n",
    "\n",
    "    info_df = pd.DataFrame({\n",
    "        'Columna': df.columns,\n",
    "        'Tipo de Dato': df.dtypes.values,\n",
    "        'Valores Únicos': df.nunique().values,\n",
    "        'Valores NA': df.isna().sum().values\n",
    "    })\n",
    "\n",
    "    print(info_df.to_string(index=False)) \n",
    "\n",
    "def cambiar_encabezados(df, listaN):\n",
    "    \"\"\"\n",
    "    Función para cambiar los encabezados de un DataFrame\n",
    "    Cambia el nombre de las columnas de un dataframe por los nombres de una lista.\n",
    "    \"\"\"\n",
    "    df.columns = listaN\n",
    "    return df\n",
    "\n",
    "def histograma_plot(df, nomCol, anchoBar):\n",
    "    \"\"\"\n",
    "    Función para pintar un histograma de una columna\n",
    "    \"\"\"\n",
    "    sns.histplot(data=df, x=nomCol, binwidth=anchoBar, kde=True)\n",
    "\n",
    "def imputacion_NA(df, nomCol, param):\n",
    "    \"\"\"\n",
    "    Función para reemplazar valores NA en un DataFrame\n",
    "\n",
    "    Reemplaza los valores NA de una columna en un DataFrame por la media o mediana de la misma.\n",
    "    \"\"\"\n",
    "    if param == 'media':\n",
    "        df[nomCol] = df[nomCol].fillna(df[nomCol].mean())\n",
    "        return df[nomCol]\n",
    "    else:\n",
    "        df[nomCol] = df[nomCol].fillna(df[nomCol].median())\n",
    "        return df[nomCol]\n",
    "\n",
    "def revisar_categoricos(df, nomCol):\n",
    "    \"\"\"\n",
    "    Función para revisar valores categóricos \n",
    "    \"\"\"\n",
    "    return df[nomCol].value_counts()\n",
    "\n",
    "def imputacion_categoricos(df, nomCol, busqueda, reempl):\n",
    "    \"\"\"\n",
    "    Función para remplazar valores categóricos modificados en una columna\n",
    "    \"\"\"\n",
    "    df[nomCol] = np.where(df[nomCol] == busqueda, reempl, df[nomCol])\n",
    "    return df[nomCol]\n",
    "\n",
    "def imputacion_categoricos_NA(df, nomCol):\n",
    "    \"\"\"\n",
    "    Función para reemplazar valores NA en una columna categórica\n",
    "    \"\"\"\n",
    "    df[nomCol] = df[nomCol].fillna(df[nomCol].mode()[0])\n",
    "    return df[nomCol]\n",
    "\n",
    "def cambiar_text_num(df, nomCol, tipo):\n",
    "    \"\"\"\n",
    "    Función para cambiar datos de texto (object) a numerico (float64)\n",
    "    \"\"\"\n",
    "    df[nomCol] = df[nomCol].astype(tipo)\n",
    "    return df[nomCol]\n",
    "\n",
    "def cambiar_text_binario(df, nomCol, busqueda, camuno, camdos):\n",
    "    \"\"\"\n",
    "    Función para cambiar datos texto a binarios\n",
    "    \"\"\"\n",
    "    df[nomCol] = np.where(df[nomCol] == busqueda, camuno, camdos)\n",
    "    return df[nomCol]\n",
    "\n",
    "def label_encoder(df,nomCol):\n",
    "    \"\"\"\n",
    "    Convierte una variable categórica en valores numéricos mediante Label Encoding.\n",
    "\n",
    "    Asigna un número único a cada categoría dentro de la columna especificada.\n",
    "    \"\"\"\n",
    "    label_e = LabelEncoder()\n",
    "    df[nomCol] = label_e.fit_transform(df[nomCol])\n",
    "    return df[nomCol]\n",
    "\n",
    "def convertir_dummies(df, nomCol):\n",
    "    \"\"\"\n",
    "    Convierte una variable categórica en variables dummies mediante One-Hot Encoding.\n",
    "\n",
    "    Crea una nueva columna para cada categoría de la variable especificada, \n",
    "    asignando 1 si la fila pertenece a esa categoría y 0 si no.\n",
    "    \"\"\"\n",
    "    dummies = pd.get_dummies(df[nomCol], dtype=int)  # dtype=int convierte True/False a 0/1\n",
    "    data = pd.concat([df, dummies], axis=1)\n",
    "    data.drop(columns=[nomCol], inplace=True)\n",
    "    return data\n",
    "\n",
    "# Función para el test de Shapiro - wilk - resistente al ruido en los datos\n",
    "\n",
    "def test_shapiro_wilk(df):\n",
    "    \"\"\"\n",
    "    Evalúa si las variables numéricas del DataFrame siguen una distribución normal con base en el valor p.\n",
    "\n",
    "    Criterios de decisión:\n",
    "    - p < 0.05 → La variable NO sigue una distribución normal.\n",
    "    - p >= 0.05 → La variable sigue una distribución normal.\n",
    "\n",
    "    Notas:\n",
    "    - La prueba de Shapiro-Wilk es sensible a tamaños de muestra grandes (>5000).\n",
    "    - Se asume que todas las columnas del DataFrame contienen datos numéricos.\n",
    "    \"\"\"\n",
    "    valoresP = []\n",
    "    concepto = []\n",
    "    variable = []\n",
    "    for column in df:\n",
    "        k2, p_value = stats.shapiro(df[column].values)\n",
    "        valoresP.append(p_value)\n",
    "        variable.append(column)\n",
    "        if (p_value < 0.05):\n",
    "            concepto.append('No es una variable Normal')\n",
    "        else:\n",
    "            concepto.append('Es una variable Normal')\n",
    "    dfShapiro = pd.DataFrame(\n",
    "        {'Variable': variable, 'Valores P': valoresP, 'Concepto': concepto})\n",
    "    return dfShapiro\n",
    "\n",
    "def normalizar_data(df):\n",
    "    \"\"\"\n",
    "    Normaliza los valores numéricos de un DataFrame utilizando Min-Max Scaling.\n",
    "\n",
    "    Esta función escala todas las columnas del DataFrame a un rango entre 0 y 1 \n",
    "    utilizando la técnica de Min-Max Scaling.\n",
    "    \"\"\"\n",
    "    valores = df.values  \n",
    "    scaler = MinMaxScaler(feature_range=(0, 1))\n",
    "    scaler = scaler.fit(valores)\n",
    "\n",
    "    pd.DataFrame(np.vstack((scaler.data_min_, scaler.data_max_)),\n",
    "             index=['Min', 'Max'],\n",
    "             columns=df.columns)\n",
    "\n",
    "    normalizados = scaler.transform(valores)\n",
    "    df_norm = pd.DataFrame(normalizados,\n",
    "                       index=df.index,\n",
    "                       columns=df.columns)\n",
    "    return df_norm\n",
    "\n",
    "def estandarizar_data(df):\n",
    "    \"\"\"\n",
    "    Estandariza los valores numéricos de un DataFrame utilizando la fórmula Z-Score.\n",
    "\n",
    "    Transforma los datos para que tengan media 0 y desviación estándar 1 \n",
    "    mediante la técnica de estandarización Z-Score con `StandardScaler`.\n",
    "    \"\"\"\n",
    "    scaler = StandardScaler()\n",
    "    standardized_data = scaler.fit_transform(df)\n",
    "    df_stan = pd.DataFrame(standardized_data, columns=df.columns)\n",
    "    return df_stan\n",
    "\n",
    "## Función para hacer la matriz de correlación de manera Tidy\n",
    "\n",
    "def tidy_correlacion_matriz(corr_mat):\n",
    "    '''\n",
    "    Convierte una matriz de correlación de pandas en un formato tidy.\n",
    "\n",
    "    Esta función transforma una matriz de correlación en un DataFrame de tres columnas: \n",
    "    'variable_1', 'variable_2' y 'r' (coeficiente de correlación), eliminando las \n",
    "    correlaciones redundantes (diagonal de la matriz) y agregando una columna con el \n",
    "    valor absoluto de la correlación para facilitar el ordenamiento.\n",
    "    '''\n",
    "    corr_mat = corr_mat.stack().reset_index()\n",
    "    corr_mat.columns = ['variable_1','variable_2','r']\n",
    "    corr_mat = corr_mat.loc[corr_mat['variable_1'] != corr_mat['variable_2'], :]\n",
    "    corr_mat['abs_r'] = np.abs(corr_mat['r'])\n",
    "    corr_mat = corr_mat.sort_values('abs_r', ascending=False)\n",
    "    return corr_mat\n"
   ]
  },
  {
   "cell_type": "markdown",
   "metadata": {},
   "source": [
    "#### importar data"
   ]
  },
  {
   "cell_type": "code",
   "execution_count": 98,
   "metadata": {},
   "outputs": [
    {
     "data": {
      "text/html": [
       "<div>\n",
       "<style scoped>\n",
       "    .dataframe tbody tr th:only-of-type {\n",
       "        vertical-align: middle;\n",
       "    }\n",
       "\n",
       "    .dataframe tbody tr th {\n",
       "        vertical-align: top;\n",
       "    }\n",
       "\n",
       "    .dataframe thead th {\n",
       "        text-align: right;\n",
       "    }\n",
       "</style>\n",
       "<table border=\"1\" class=\"dataframe\">\n",
       "  <thead>\n",
       "    <tr style=\"text-align: right;\">\n",
       "      <th></th>\n",
       "      <th>Age</th>\n",
       "      <th>Gender</th>\n",
       "      <th>Temperature</th>\n",
       "      <th>Headache</th>\n",
       "      <th>Fever</th>\n",
       "      <th>Hospital</th>\n",
       "      <th>CovidDiagnosis</th>\n",
       "    </tr>\n",
       "  </thead>\n",
       "  <tbody>\n",
       "    <tr>\n",
       "      <th>0</th>\n",
       "      <td>12.0</td>\n",
       "      <td>Masculino</td>\n",
       "      <td>36°</td>\n",
       "      <td>SI</td>\n",
       "      <td>1.0</td>\n",
       "      <td>Moncaleano</td>\n",
       "      <td>positive</td>\n",
       "    </tr>\n",
       "    <tr>\n",
       "      <th>1</th>\n",
       "      <td>35.0</td>\n",
       "      <td>Femenino</td>\n",
       "      <td>38</td>\n",
       "      <td>NO</td>\n",
       "      <td>0.0</td>\n",
       "      <td>Medilaser</td>\n",
       "      <td>negative</td>\n",
       "    </tr>\n",
       "    <tr>\n",
       "      <th>2</th>\n",
       "      <td>65.0</td>\n",
       "      <td>NaN</td>\n",
       "      <td>36C</td>\n",
       "      <td>YES</td>\n",
       "      <td>1.0</td>\n",
       "      <td>Carmen Emilia</td>\n",
       "      <td>negative</td>\n",
       "    </tr>\n",
       "    <tr>\n",
       "      <th>3</th>\n",
       "      <td>78.0</td>\n",
       "      <td>NaN</td>\n",
       "      <td>39</td>\n",
       "      <td>NOP</td>\n",
       "      <td>1.0</td>\n",
       "      <td>Moncaleano</td>\n",
       "      <td>negative</td>\n",
       "    </tr>\n",
       "    <tr>\n",
       "      <th>4</th>\n",
       "      <td>41.0</td>\n",
       "      <td>Masculino</td>\n",
       "      <td>40.</td>\n",
       "      <td>SI</td>\n",
       "      <td>0.0</td>\n",
       "      <td>Medilaser</td>\n",
       "      <td>positive</td>\n",
       "    </tr>\n",
       "    <tr>\n",
       "      <th>...</th>\n",
       "      <td>...</td>\n",
       "      <td>...</td>\n",
       "      <td>...</td>\n",
       "      <td>...</td>\n",
       "      <td>...</td>\n",
       "      <td>...</td>\n",
       "      <td>...</td>\n",
       "    </tr>\n",
       "    <tr>\n",
       "      <th>94</th>\n",
       "      <td>7.0</td>\n",
       "      <td>Femenino</td>\n",
       "      <td>42</td>\n",
       "      <td>OUI</td>\n",
       "      <td>1.0</td>\n",
       "      <td>Medilaser</td>\n",
       "      <td>positive</td>\n",
       "    </tr>\n",
       "    <tr>\n",
       "      <th>95</th>\n",
       "      <td>7.0</td>\n",
       "      <td>Masculino</td>\n",
       "      <td>35</td>\n",
       "      <td>OUI</td>\n",
       "      <td>0.0</td>\n",
       "      <td>Carmen Emilia</td>\n",
       "      <td>positive</td>\n",
       "    </tr>\n",
       "    <tr>\n",
       "      <th>96</th>\n",
       "      <td>25.0</td>\n",
       "      <td>Femenino</td>\n",
       "      <td>35.2</td>\n",
       "      <td>YES</td>\n",
       "      <td>NaN</td>\n",
       "      <td>Moncaleano</td>\n",
       "      <td>negative</td>\n",
       "    </tr>\n",
       "    <tr>\n",
       "      <th>97</th>\n",
       "      <td>26.0</td>\n",
       "      <td>Femenino</td>\n",
       "      <td>35.6</td>\n",
       "      <td>YES</td>\n",
       "      <td>NaN</td>\n",
       "      <td>Medilaser</td>\n",
       "      <td>negative</td>\n",
       "    </tr>\n",
       "    <tr>\n",
       "      <th>98</th>\n",
       "      <td>30.0</td>\n",
       "      <td>Femenino</td>\n",
       "      <td>36.9</td>\n",
       "      <td>YES</td>\n",
       "      <td>NaN</td>\n",
       "      <td>Carmen Emilia</td>\n",
       "      <td>negative</td>\n",
       "    </tr>\n",
       "  </tbody>\n",
       "</table>\n",
       "<p>99 rows × 7 columns</p>\n",
       "</div>"
      ],
      "text/plain": [
       "     Age     Gender Temperature Headache  Fever       Hospital CovidDiagnosis\n",
       "0   12.0  Masculino         36°       SI    1.0     Moncaleano       positive\n",
       "1   35.0   Femenino          38       NO    0.0      Medilaser       negative\n",
       "2   65.0        NaN         36C      YES    1.0  Carmen Emilia       negative\n",
       "3   78.0        NaN          39      NOP    1.0     Moncaleano       negative\n",
       "4   41.0  Masculino         40.       SI    0.0      Medilaser       positive\n",
       "..   ...        ...         ...      ...    ...            ...            ...\n",
       "94   7.0   Femenino          42      OUI    1.0      Medilaser       positive\n",
       "95   7.0  Masculino          35      OUI    0.0  Carmen Emilia       positive\n",
       "96  25.0   Femenino        35.2      YES    NaN     Moncaleano       negative\n",
       "97  26.0   Femenino        35.6      YES    NaN      Medilaser       negative\n",
       "98  30.0   Femenino        36.9      YES    NaN  Carmen Emilia       negative\n",
       "\n",
       "[99 rows x 7 columns]"
      ]
     },
     "execution_count": 98,
     "metadata": {},
     "output_type": "execute_result"
    }
   ],
   "source": [
    "df = importar_data(r'C:\\Users\\user\\Desktop\\ejercicios_MD\\1\\dataset\\\\', 'CovidDiagnosis', '.xlsx')\n",
    "df"
   ]
  },
  {
   "cell_type": "code",
   "execution_count": 99,
   "metadata": {},
   "outputs": [
    {
     "data": {
      "text/plain": [
       "pandas.core.frame.DataFrame"
      ]
     },
     "execution_count": 99,
     "metadata": {},
     "output_type": "execute_result"
    }
   ],
   "source": [
    "# convertir a dataframe\n",
    "df = pd.DataFrame(df)\n",
    "# verificar\n",
    "type(df)"
   ]
  },
  {
   "cell_type": "markdown",
   "metadata": {},
   "source": [
    "#### verificar datos NA "
   ]
  },
  {
   "cell_type": "code",
   "execution_count": 100,
   "metadata": {},
   "outputs": [
    {
     "name": "stdout",
     "output_type": "stream",
     "text": [
      "\n",
      "Dimensiones: 99 filas, 7 columnas\n",
      "Total Valores NA: 49\n",
      "\n",
      "       Columna Tipo de Dato  Valores Únicos  Valores NA\n",
      "           Age      float64              46           3\n",
      "        Gender       object               6           3\n",
      "   Temperature       object              30           1\n",
      "      Headache       object               6          35\n",
      "         Fever      float64               2           7\n",
      "      Hospital       object               3           0\n",
      "CovidDiagnosis       object               2           0\n"
     ]
    }
   ],
   "source": [
    "datos_NA(df)"
   ]
  },
  {
   "cell_type": "code",
   "execution_count": 101,
   "metadata": {},
   "outputs": [
    {
     "data": {
      "text/plain": [
       "<Axes: >"
      ]
     },
     "execution_count": 101,
     "metadata": {},
     "output_type": "execute_result"
    },
    {
     "data": {
      "image/png": "[encoded data removed]",
      "text/plain": [
       "<Figure size 2500x1000 with 2 Axes>"
      ]
     },
     "metadata": {},
     "output_type": "display_data"
    }
   ],
   "source": [
    "# visualizar datos faltantes\n",
    "msno.matrix(df)"
   ]
  },
  {
   "cell_type": "markdown",
   "metadata": {},
   "source": [
    "#### limpieza de datos NA"
   ]
  },
  {
   "cell_type": "code",
   "execution_count": 102,
   "metadata": {},
   "outputs": [
    {
     "name": "stdout",
     "output_type": "stream",
     "text": [
      "\n",
      "Dimensiones: 99 filas, 7 columnas\n",
      "Total Valores NA: 49\n",
      "\n",
      "         Columna Tipo de Dato  Valores Únicos  Valores NA\n",
      "            Edad      float64              46           3\n",
      "          Genero       object               6           3\n",
      "     Temperatura       object              30           1\n",
      "     DolorCabeza       object               6          35\n",
      "          Fiebre      float64               2           7\n",
      "        Hospital       object               3           0\n",
      "DiagnosticoCovid       object               2           0\n"
     ]
    }
   ],
   "source": [
    "# cambiar encabezados\n",
    "cambiar_encabezados(df, ['Edad','Genero','Temperatura','DolorCabeza','Fiebre','Hospital','DiagnosticoCovid'])\n",
    "# verificar\n",
    "datos_NA(df)"
   ]
  },
  {
   "cell_type": "code",
   "execution_count": 103,
   "metadata": {},
   "outputs": [
    {
     "data": {
      "image/png": "[encoded data removed]",
      "text/plain": [
       "<Figure size 640x480 with 1 Axes>"
      ]
     },
     "metadata": {},
     "output_type": "display_data"
    }
   ],
   "source": [
    "# revisar columna edad\n",
    "histograma_plot(df, 'Edad', 1)"
   ]
  },
  {
   "cell_type": "code",
   "execution_count": 104,
   "metadata": {},
   "outputs": [
    {
     "name": "stdout",
     "output_type": "stream",
     "text": [
      "\n",
      "Dimensiones: 99 filas, 7 columnas\n",
      "Total Valores NA: 46\n",
      "\n",
      "         Columna Tipo de Dato  Valores Únicos  Valores NA\n",
      "            Edad      float64              46           0\n",
      "          Genero       object               6           3\n",
      "     Temperatura       object              30           1\n",
      "     DolorCabeza       object               6          35\n",
      "          Fiebre      float64               2           7\n",
      "        Hospital       object               3           0\n",
      "DiagnosticoCovid       object               2           0\n"
     ]
    }
   ],
   "source": [
    "# como se observa no hay campana de gauss, entonces se remplazan datos NA con la mediana\n",
    "imputacion_NA(df, 'Edad', 'mediana')\n",
    "# verificar\n",
    "datos_NA(df)"
   ]
  },
  {
   "cell_type": "code",
   "execution_count": 105,
   "metadata": {},
   "outputs": [
    {
     "data": {
      "text/plain": [
       "Genero\n",
       "Femenino          60\n",
       "Masculino         23\n",
       "Masculinoooo       6\n",
       "femenino           5\n",
       "Masculino…..//     1\n",
       "masculino          1\n",
       "Name: count, dtype: int64"
      ]
     },
     "execution_count": 105,
     "metadata": {},
     "output_type": "execute_result"
    }
   ],
   "source": [
    "# revisar columna genero\n",
    "revisar_categoricos(df, 'Genero')"
   ]
  },
  {
   "cell_type": "code",
   "execution_count": 106,
   "metadata": {},
   "outputs": [
    {
     "data": {
      "text/plain": [
       "Genero\n",
       "Femenino     65\n",
       "Masculino    31\n",
       "Name: count, dtype: int64"
      ]
     },
     "execution_count": 106,
     "metadata": {},
     "output_type": "execute_result"
    }
   ],
   "source": [
    "# limpieza de datos categoricos modificados\n",
    "imputacion_categoricos(df, 'Genero', 'Masculinoooo', 'Masculino')\n",
    "imputacion_categoricos(df, 'Genero', 'Masculino…..//', 'Masculino')\n",
    "imputacion_categoricos(df, 'Genero', 'masculino', 'Masculino')\n",
    "imputacion_categoricos(df, 'Genero', 'femenino', 'Femenino')\n",
    "# verificar\n",
    "revisar_categoricos(df, 'Genero')"
   ]
  },
  {
   "cell_type": "code",
   "execution_count": 107,
   "metadata": {},
   "outputs": [
    {
     "name": "stdout",
     "output_type": "stream",
     "text": [
      "\n",
      "Dimensiones: 99 filas, 7 columnas\n",
      "Total Valores NA: 46\n",
      "\n",
      "         Columna Tipo de Dato  Valores Únicos  Valores NA\n",
      "            Edad      float64              46           0\n",
      "          Genero       object               2           3\n",
      "     Temperatura       object              30           1\n",
      "     DolorCabeza       object               6          35\n",
      "          Fiebre      float64               2           7\n",
      "        Hospital       object               3           0\n",
      "DiagnosticoCovid       object               2           0\n"
     ]
    }
   ],
   "source": [
    "# revisar datos NA en columna genero\n",
    "datos_NA(df)"
   ]
  },
  {
   "cell_type": "code",
   "execution_count": 108,
   "metadata": {},
   "outputs": [
    {
     "name": "stdout",
     "output_type": "stream",
     "text": [
      "\n",
      "Dimensiones: 99 filas, 7 columnas\n",
      "Total Valores NA: 43\n",
      "\n",
      "         Columna Tipo de Dato  Valores Únicos  Valores NA\n",
      "            Edad      float64              46           0\n",
      "          Genero       object               2           0\n",
      "     Temperatura       object              30           1\n",
      "     DolorCabeza       object               6          35\n",
      "          Fiebre      float64               2           7\n",
      "        Hospital       object               3           0\n",
      "DiagnosticoCovid       object               2           0\n"
     ]
    }
   ],
   "source": [
    "# se remplazan los datos NA con la moda\n",
    "imputacion_categoricos_NA(df, 'Genero')\n",
    "# verificar\n",
    "datos_NA(df)"
   ]
  },
  {
   "cell_type": "code",
   "execution_count": 109,
   "metadata": {},
   "outputs": [
    {
     "data": {
      "text/plain": [
       "Genero\n",
       "Femenino     68\n",
       "Masculino    31\n",
       "Name: count, dtype: int64"
      ]
     },
     "execution_count": 109,
     "metadata": {},
     "output_type": "execute_result"
    }
   ],
   "source": [
    "revisar_categoricos(df, 'Genero')"
   ]
  },
  {
   "cell_type": "code",
   "execution_count": 110,
   "metadata": {},
   "outputs": [
    {
     "data": {
      "text/plain": [
       "0      36°\n",
       "1       38\n",
       "2      36C\n",
       "3       39\n",
       "4      40.\n",
       "      ... \n",
       "94      42\n",
       "95      35\n",
       "96    35.2\n",
       "97    35.6\n",
       "98    36.9\n",
       "Name: Temperatura, Length: 99, dtype: object"
      ]
     },
     "execution_count": 110,
     "metadata": {},
     "output_type": "execute_result"
    }
   ],
   "source": [
    "# revisar columna temperatura\n",
    "df['Temperatura']"
   ]
  },
  {
   "cell_type": "code",
   "execution_count": 111,
   "metadata": {},
   "outputs": [
    {
     "data": {
      "text/plain": [
       "0       36\n",
       "1       38\n",
       "2       36\n",
       "3       39\n",
       "4      40.\n",
       "      ... \n",
       "94      42\n",
       "95      35\n",
       "96    35.2\n",
       "97    35.6\n",
       "98    36.9\n",
       "Name: Temperatura, Length: 99, dtype: object"
      ]
     },
     "execution_count": 111,
     "metadata": {},
     "output_type": "execute_result"
    }
   ],
   "source": [
    "# datos incosisntentes en la columna temperatura\n",
    "imputacion_categoricos(df, 'Temperatura', '36C', 36)\n",
    "imputacion_categoricos(df, 'Temperatura', '36°', 36)\n",
    "# verificar\n",
    "df['Temperatura']\n"
   ]
  },
  {
   "cell_type": "code",
   "execution_count": 112,
   "metadata": {},
   "outputs": [
    {
     "data": {
      "text/plain": [
       "0     36.0\n",
       "1     38.0\n",
       "2     36.0\n",
       "3     39.0\n",
       "4     40.0\n",
       "      ... \n",
       "94    42.0\n",
       "95    35.0\n",
       "96    35.2\n",
       "97    35.6\n",
       "98    36.9\n",
       "Name: Temperatura, Length: 99, dtype: float64"
      ]
     },
     "execution_count": 112,
     "metadata": {},
     "output_type": "execute_result"
    }
   ],
   "source": [
    "# cambio de tipo de dato de object (texto) a float64 (número)\n",
    "cambiar_text_num(df, 'Temperatura', 'float64')"
   ]
  },
  {
   "cell_type": "code",
   "execution_count": 113,
   "metadata": {},
   "outputs": [
    {
     "data": {
      "image/png": "[encoded data removed]",
      "text/plain": [
       "<Figure size 640x480 with 1 Axes>"
      ]
     },
     "metadata": {},
     "output_type": "display_data"
    }
   ],
   "source": [
    "# revisar datos NA columna temperatura\n",
    "histograma_plot(df, 'Temperatura', 1)"
   ]
  },
  {
   "cell_type": "code",
   "execution_count": 114,
   "metadata": {},
   "outputs": [
    {
     "name": "stdout",
     "output_type": "stream",
     "text": [
      "\n",
      "Dimensiones: 99 filas, 7 columnas\n",
      "Total Valores NA: 42\n",
      "\n",
      "         Columna Tipo de Dato  Valores Únicos  Valores NA\n",
      "            Edad      float64              46           0\n",
      "          Genero       object               2           0\n",
      "     Temperatura      float64              28           0\n",
      "     DolorCabeza       object               6          35\n",
      "          Fiebre      float64               2           7\n",
      "        Hospital       object               3           0\n",
      "DiagnosticoCovid       object               2           0\n"
     ]
    }
   ],
   "source": [
    "# no hay campana de gauss, entonces se remplazan datos NA con la mediana\n",
    "imputacion_NA(df, 'Temperatura', 'mediana')\n",
    "# verificar\n",
    "datos_NA(df)"
   ]
  },
  {
   "cell_type": "code",
   "execution_count": 115,
   "metadata": {},
   "outputs": [
    {
     "data": {
      "text/plain": [
       "DolorCabeza\n",
       "SI     14\n",
       "NO     14\n",
       "NOP    14\n",
       "YES    12\n",
       "SI      7\n",
       "OUI     3\n",
       "Name: count, dtype: int64"
      ]
     },
     "execution_count": 115,
     "metadata": {},
     "output_type": "execute_result"
    }
   ],
   "source": [
    "# revisar columna dolor de cabeza\n",
    "revisar_categoricos(df, 'DolorCabeza')"
   ]
  },
  {
   "cell_type": "code",
   "execution_count": 116,
   "metadata": {},
   "outputs": [
    {
     "data": {
      "text/plain": [
       "DolorCabeza\n",
       "SI    36\n",
       "NO    28\n",
       "Name: count, dtype: int64"
      ]
     },
     "execution_count": 116,
     "metadata": {},
     "output_type": "execute_result"
    }
   ],
   "source": [
    "# limpieza de datos categoricos modificados\n",
    "imputacion_categoricos(df, 'DolorCabeza', 'YES', 'SI')\n",
    "imputacion_categoricos(df, 'DolorCabeza', 'SI ', 'SI')\n",
    "imputacion_categoricos(df, 'DolorCabeza', 'OUI', 'SI')\n",
    "imputacion_categoricos(df, 'DolorCabeza', 'NOP', 'NO')\n",
    "# verificar\n",
    "revisar_categoricos(df, 'DolorCabeza')"
   ]
  },
  {
   "cell_type": "code",
   "execution_count": 117,
   "metadata": {},
   "outputs": [
    {
     "name": "stdout",
     "output_type": "stream",
     "text": [
      "\n",
      "Dimensiones: 99 filas, 7 columnas\n",
      "Total Valores NA: 7\n",
      "\n",
      "         Columna Tipo de Dato  Valores Únicos  Valores NA\n",
      "            Edad      float64              46           0\n",
      "          Genero       object               2           0\n",
      "     Temperatura      float64              28           0\n",
      "     DolorCabeza       object               2           0\n",
      "          Fiebre      float64               2           7\n",
      "        Hospital       object               3           0\n",
      "DiagnosticoCovid       object               2           0\n"
     ]
    }
   ],
   "source": [
    "# se remplazan los datos NA con la moda\n",
    "imputacion_categoricos_NA(df, 'DolorCabeza')\n",
    "# verificar\n",
    "datos_NA(df)"
   ]
  },
  {
   "cell_type": "code",
   "execution_count": 118,
   "metadata": {},
   "outputs": [
    {
     "data": {
      "image/png": "[encoded data removed]",
      "text/plain": [
       "<Figure size 640x480 with 1 Axes>"
      ]
     },
     "metadata": {},
     "output_type": "display_data"
    }
   ],
   "source": [
    "# revisar columna fiebre\n",
    "histograma_plot(df, 'Fiebre', 1)"
   ]
  },
  {
   "cell_type": "code",
   "execution_count": 119,
   "metadata": {},
   "outputs": [
    {
     "name": "stdout",
     "output_type": "stream",
     "text": [
      "\n",
      "Dimensiones: 99 filas, 7 columnas\n",
      "Total Valores NA: 0\n",
      "\n",
      "         Columna Tipo de Dato  Valores Únicos  Valores NA\n",
      "            Edad      float64              46           0\n",
      "          Genero       object               2           0\n",
      "     Temperatura      float64              28           0\n",
      "     DolorCabeza       object               2           0\n",
      "          Fiebre      float64               2           0\n",
      "        Hospital       object               3           0\n",
      "DiagnosticoCovid       object               2           0\n"
     ]
    }
   ],
   "source": [
    "# no hay campana de gauss, entonces se remplazan datos NA con la mediana\n",
    "imputacion_NA(df, 'Fiebre', 'mediana')\n",
    "# verificar\n",
    "datos_NA(df)"
   ]
  },
  {
   "cell_type": "code",
   "execution_count": 120,
   "metadata": {},
   "outputs": [
    {
     "data": {
      "text/plain": [
       "Hospital\n",
       "Moncaleano       33\n",
       "Medilaser        33\n",
       "Carmen Emilia    33\n",
       "Name: count, dtype: int64"
      ]
     },
     "execution_count": 120,
     "metadata": {},
     "output_type": "execute_result"
    }
   ],
   "source": [
    "# revisar columna hospital  \n",
    "revisar_categoricos(df, 'Hospital')"
   ]
  },
  {
   "cell_type": "code",
   "execution_count": 121,
   "metadata": {},
   "outputs": [
    {
     "data": {
      "text/plain": [
       "DiagnosticoCovid\n",
       "negative    60\n",
       "positive    39\n",
       "Name: count, dtype: int64"
      ]
     },
     "execution_count": 121,
     "metadata": {},
     "output_type": "execute_result"
    }
   ],
   "source": [
    "# revisar columna diagnostico covid\n",
    "revisar_categoricos(df, 'DiagnosticoCovid')"
   ]
  },
  {
   "cell_type": "code",
   "execution_count": 122,
   "metadata": {},
   "outputs": [
    {
     "name": "stdout",
     "output_type": "stream",
     "text": [
      "\n",
      "Dimensiones: 99 filas, 7 columnas\n",
      "Total Valores NA: 0\n",
      "\n",
      "         Columna Tipo de Dato  Valores Únicos  Valores NA\n",
      "            Edad      float64              46           0\n",
      "          Genero        int64               2           0\n",
      "     Temperatura      float64              28           0\n",
      "     DolorCabeza        int64               2           0\n",
      "          Fiebre      float64               2           0\n",
      "        Hospital       object               3           0\n",
      "DiagnosticoCovid        int64               2           0\n"
     ]
    }
   ],
   "source": [
    "# cambiar a 1 y 0 los valores de las columnas genero, dolor de cabeza y diagnostico covid\n",
    "cambiar_text_binario(df, 'Genero', 'Femenino', 0, 1) # 0: Femenino, 1: Masculino\n",
    "cambiar_text_binario(df, 'DolorCabeza', 'NO', 0, 1) # 0: NO, 1: SI\n",
    "cambiar_text_binario(df, 'DiagnosticoCovid', 'negative', 0, 1) # 0: negative, 1: positive\n",
    "# verificar\n",
    "datos_NA(df)"
   ]
  },
  {
   "cell_type": "code",
   "execution_count": 123,
   "metadata": {},
   "outputs": [
    {
     "data": {
      "text/html": [
       "<div>\n",
       "<style scoped>\n",
       "    .dataframe tbody tr th:only-of-type {\n",
       "        vertical-align: middle;\n",
       "    }\n",
       "\n",
       "    .dataframe tbody tr th {\n",
       "        vertical-align: top;\n",
       "    }\n",
       "\n",
       "    .dataframe thead th {\n",
       "        text-align: right;\n",
       "    }\n",
       "</style>\n",
       "<table border=\"1\" class=\"dataframe\">\n",
       "  <thead>\n",
       "    <tr style=\"text-align: right;\">\n",
       "      <th></th>\n",
       "      <th>Edad</th>\n",
       "      <th>Genero</th>\n",
       "      <th>Temperatura</th>\n",
       "      <th>DolorCabeza</th>\n",
       "      <th>Fiebre</th>\n",
       "      <th>DiagnosticoCovid</th>\n",
       "      <th>Carmen Emilia</th>\n",
       "      <th>Medilaser</th>\n",
       "      <th>Moncaleano</th>\n",
       "    </tr>\n",
       "  </thead>\n",
       "  <tbody>\n",
       "    <tr>\n",
       "      <th>0</th>\n",
       "      <td>12.0</td>\n",
       "      <td>1</td>\n",
       "      <td>36.0</td>\n",
       "      <td>1</td>\n",
       "      <td>1.0</td>\n",
       "      <td>1</td>\n",
       "      <td>0</td>\n",
       "      <td>0</td>\n",
       "      <td>1</td>\n",
       "    </tr>\n",
       "    <tr>\n",
       "      <th>1</th>\n",
       "      <td>35.0</td>\n",
       "      <td>0</td>\n",
       "      <td>38.0</td>\n",
       "      <td>0</td>\n",
       "      <td>0.0</td>\n",
       "      <td>0</td>\n",
       "      <td>0</td>\n",
       "      <td>1</td>\n",
       "      <td>0</td>\n",
       "    </tr>\n",
       "    <tr>\n",
       "      <th>2</th>\n",
       "      <td>65.0</td>\n",
       "      <td>0</td>\n",
       "      <td>36.0</td>\n",
       "      <td>1</td>\n",
       "      <td>1.0</td>\n",
       "      <td>0</td>\n",
       "      <td>1</td>\n",
       "      <td>0</td>\n",
       "      <td>0</td>\n",
       "    </tr>\n",
       "    <tr>\n",
       "      <th>3</th>\n",
       "      <td>78.0</td>\n",
       "      <td>0</td>\n",
       "      <td>39.0</td>\n",
       "      <td>0</td>\n",
       "      <td>1.0</td>\n",
       "      <td>0</td>\n",
       "      <td>0</td>\n",
       "      <td>0</td>\n",
       "      <td>1</td>\n",
       "    </tr>\n",
       "    <tr>\n",
       "      <th>4</th>\n",
       "      <td>41.0</td>\n",
       "      <td>1</td>\n",
       "      <td>40.0</td>\n",
       "      <td>1</td>\n",
       "      <td>0.0</td>\n",
       "      <td>1</td>\n",
       "      <td>0</td>\n",
       "      <td>1</td>\n",
       "      <td>0</td>\n",
       "    </tr>\n",
       "  </tbody>\n",
       "</table>\n",
       "</div>"
      ],
      "text/plain": [
       "   Edad  Genero  Temperatura  DolorCabeza  Fiebre  DiagnosticoCovid  \\\n",
       "0  12.0       1         36.0            1     1.0                 1   \n",
       "1  35.0       0         38.0            0     0.0                 0   \n",
       "2  65.0       0         36.0            1     1.0                 0   \n",
       "3  78.0       0         39.0            0     1.0                 0   \n",
       "4  41.0       1         40.0            1     0.0                 1   \n",
       "\n",
       "   Carmen Emilia  Medilaser  Moncaleano  \n",
       "0              0          0           1  \n",
       "1              0          1           0  \n",
       "2              1          0           0  \n",
       "3              0          0           1  \n",
       "4              0          1           0  "
      ]
     },
     "execution_count": 123,
     "metadata": {},
     "output_type": "execute_result"
    }
   ],
   "source": [
    "# one hot encoder para la columna hospital\n",
    "df_final = convertir_dummies(df, 'Hospital') \n",
    "# verificar\n",
    "df_final.head()"
   ]
  },
  {
   "cell_type": "code",
   "execution_count": 124,
   "metadata": {},
   "outputs": [
    {
     "data": {
      "text/html": [
       "<div>\n",
       "<style scoped>\n",
       "    .dataframe tbody tr th:only-of-type {\n",
       "        vertical-align: middle;\n",
       "    }\n",
       "\n",
       "    .dataframe tbody tr th {\n",
       "        vertical-align: top;\n",
       "    }\n",
       "\n",
       "    .dataframe thead th {\n",
       "        text-align: right;\n",
       "    }\n",
       "</style>\n",
       "<table border=\"1\" class=\"dataframe\">\n",
       "  <thead>\n",
       "    <tr style=\"text-align: right;\">\n",
       "      <th></th>\n",
       "      <th>count</th>\n",
       "      <th>mean</th>\n",
       "      <th>std</th>\n",
       "      <th>min</th>\n",
       "      <th>25%</th>\n",
       "      <th>50%</th>\n",
       "      <th>75%</th>\n",
       "      <th>max</th>\n",
       "    </tr>\n",
       "  </thead>\n",
       "  <tbody>\n",
       "    <tr>\n",
       "      <th>Edad</th>\n",
       "      <td>99.0</td>\n",
       "      <td>21.555556</td>\n",
       "      <td>15.882362</td>\n",
       "      <td>2.00</td>\n",
       "      <td>10.00</td>\n",
       "      <td>18.00</td>\n",
       "      <td>30.5</td>\n",
       "      <td>98.0</td>\n",
       "    </tr>\n",
       "    <tr>\n",
       "      <th>Genero</th>\n",
       "      <td>99.0</td>\n",
       "      <td>0.313131</td>\n",
       "      <td>0.466127</td>\n",
       "      <td>0.00</td>\n",
       "      <td>0.00</td>\n",
       "      <td>0.00</td>\n",
       "      <td>1.0</td>\n",
       "      <td>1.0</td>\n",
       "    </tr>\n",
       "    <tr>\n",
       "      <th>Temperatura</th>\n",
       "      <td>99.0</td>\n",
       "      <td>34.855051</td>\n",
       "      <td>5.718094</td>\n",
       "      <td>23.41</td>\n",
       "      <td>30.67</td>\n",
       "      <td>36.35</td>\n",
       "      <td>39.0</td>\n",
       "      <td>45.0</td>\n",
       "    </tr>\n",
       "    <tr>\n",
       "      <th>DolorCabeza</th>\n",
       "      <td>99.0</td>\n",
       "      <td>0.717172</td>\n",
       "      <td>0.452666</td>\n",
       "      <td>0.00</td>\n",
       "      <td>0.00</td>\n",
       "      <td>1.00</td>\n",
       "      <td>1.0</td>\n",
       "      <td>1.0</td>\n",
       "    </tr>\n",
       "    <tr>\n",
       "      <th>Fiebre</th>\n",
       "      <td>99.0</td>\n",
       "      <td>0.565657</td>\n",
       "      <td>0.498193</td>\n",
       "      <td>0.00</td>\n",
       "      <td>0.00</td>\n",
       "      <td>1.00</td>\n",
       "      <td>1.0</td>\n",
       "      <td>1.0</td>\n",
       "    </tr>\n",
       "    <tr>\n",
       "      <th>DiagnosticoCovid</th>\n",
       "      <td>99.0</td>\n",
       "      <td>0.393939</td>\n",
       "      <td>0.491108</td>\n",
       "      <td>0.00</td>\n",
       "      <td>0.00</td>\n",
       "      <td>0.00</td>\n",
       "      <td>1.0</td>\n",
       "      <td>1.0</td>\n",
       "    </tr>\n",
       "    <tr>\n",
       "      <th>Carmen Emilia</th>\n",
       "      <td>99.0</td>\n",
       "      <td>0.333333</td>\n",
       "      <td>0.473804</td>\n",
       "      <td>0.00</td>\n",
       "      <td>0.00</td>\n",
       "      <td>0.00</td>\n",
       "      <td>1.0</td>\n",
       "      <td>1.0</td>\n",
       "    </tr>\n",
       "    <tr>\n",
       "      <th>Medilaser</th>\n",
       "      <td>99.0</td>\n",
       "      <td>0.333333</td>\n",
       "      <td>0.473804</td>\n",
       "      <td>0.00</td>\n",
       "      <td>0.00</td>\n",
       "      <td>0.00</td>\n",
       "      <td>1.0</td>\n",
       "      <td>1.0</td>\n",
       "    </tr>\n",
       "    <tr>\n",
       "      <th>Moncaleano</th>\n",
       "      <td>99.0</td>\n",
       "      <td>0.333333</td>\n",
       "      <td>0.473804</td>\n",
       "      <td>0.00</td>\n",
       "      <td>0.00</td>\n",
       "      <td>0.00</td>\n",
       "      <td>1.0</td>\n",
       "      <td>1.0</td>\n",
       "    </tr>\n",
       "  </tbody>\n",
       "</table>\n",
       "</div>"
      ],
      "text/plain": [
       "                  count       mean        std    min    25%    50%   75%   max\n",
       "Edad               99.0  21.555556  15.882362   2.00  10.00  18.00  30.5  98.0\n",
       "Genero             99.0   0.313131   0.466127   0.00   0.00   0.00   1.0   1.0\n",
       "Temperatura        99.0  34.855051   5.718094  23.41  30.67  36.35  39.0  45.0\n",
       "DolorCabeza        99.0   0.717172   0.452666   0.00   0.00   1.00   1.0   1.0\n",
       "Fiebre             99.0   0.565657   0.498193   0.00   0.00   1.00   1.0   1.0\n",
       "DiagnosticoCovid   99.0   0.393939   0.491108   0.00   0.00   0.00   1.0   1.0\n",
       "Carmen Emilia      99.0   0.333333   0.473804   0.00   0.00   0.00   1.0   1.0\n",
       "Medilaser          99.0   0.333333   0.473804   0.00   0.00   0.00   1.0   1.0\n",
       "Moncaleano         99.0   0.333333   0.473804   0.00   0.00   0.00   1.0   1.0"
      ]
     },
     "execution_count": 124,
     "metadata": {},
     "output_type": "execute_result"
    }
   ],
   "source": [
    "# resumen de medidas de tendencia central y dispersión\n",
    "df_final.describe().T"
   ]
  },
  {
   "cell_type": "code",
   "execution_count": 125,
   "metadata": {},
   "outputs": [
    {
     "data": {
      "text/html": [
       "<div>\n",
       "<style scoped>\n",
       "    .dataframe tbody tr th:only-of-type {\n",
       "        vertical-align: middle;\n",
       "    }\n",
       "\n",
       "    .dataframe tbody tr th {\n",
       "        vertical-align: top;\n",
       "    }\n",
       "\n",
       "    .dataframe thead th {\n",
       "        text-align: right;\n",
       "    }\n",
       "</style>\n",
       "<table border=\"1\" class=\"dataframe\">\n",
       "  <thead>\n",
       "    <tr style=\"text-align: right;\">\n",
       "      <th></th>\n",
       "      <th>Edad</th>\n",
       "      <th>Genero</th>\n",
       "      <th>Temperatura</th>\n",
       "      <th>DolorCabeza</th>\n",
       "      <th>Carmen Emilia</th>\n",
       "      <th>Medilaser</th>\n",
       "      <th>Moncaleano</th>\n",
       "    </tr>\n",
       "  </thead>\n",
       "  <tbody>\n",
       "    <tr>\n",
       "      <th>3</th>\n",
       "      <td>78.0</td>\n",
       "      <td>0</td>\n",
       "      <td>39.0</td>\n",
       "      <td>0</td>\n",
       "      <td>0</td>\n",
       "      <td>0</td>\n",
       "      <td>1</td>\n",
       "    </tr>\n",
       "    <tr>\n",
       "      <th>4</th>\n",
       "      <td>41.0</td>\n",
       "      <td>1</td>\n",
       "      <td>40.0</td>\n",
       "      <td>1</td>\n",
       "      <td>0</td>\n",
       "      <td>1</td>\n",
       "      <td>0</td>\n",
       "    </tr>\n",
       "    <tr>\n",
       "      <th>5</th>\n",
       "      <td>18.0</td>\n",
       "      <td>0</td>\n",
       "      <td>41.0</td>\n",
       "      <td>0</td>\n",
       "      <td>1</td>\n",
       "      <td>0</td>\n",
       "      <td>0</td>\n",
       "    </tr>\n",
       "    <tr>\n",
       "      <th>6</th>\n",
       "      <td>98.0</td>\n",
       "      <td>0</td>\n",
       "      <td>38.5</td>\n",
       "      <td>1</td>\n",
       "      <td>0</td>\n",
       "      <td>0</td>\n",
       "      <td>1</td>\n",
       "    </tr>\n",
       "    <tr>\n",
       "      <th>7</th>\n",
       "      <td>12.0</td>\n",
       "      <td>0</td>\n",
       "      <td>38.9</td>\n",
       "      <td>1</td>\n",
       "      <td>0</td>\n",
       "      <td>1</td>\n",
       "      <td>0</td>\n",
       "    </tr>\n",
       "  </tbody>\n",
       "</table>\n",
       "</div>"
      ],
      "text/plain": [
       "   Edad  Genero  Temperatura  DolorCabeza  Carmen Emilia  Medilaser  \\\n",
       "3  78.0       0         39.0            0              0          0   \n",
       "4  41.0       1         40.0            1              0          1   \n",
       "5  18.0       0         41.0            0              1          0   \n",
       "6  98.0       0         38.5            1              0          0   \n",
       "7  12.0       0         38.9            1              0          1   \n",
       "\n",
       "   Moncaleano  \n",
       "3           1  \n",
       "4           0  \n",
       "5           0  \n",
       "6           1  \n",
       "7           0  "
      ]
     },
     "execution_count": 125,
     "metadata": {},
     "output_type": "execute_result"
    }
   ],
   "source": [
    "# particionar datos\n",
    "diagnostico = df_final.loc[3:50, [\"Edad\", \"Genero\", \"Temperatura\", \"DolorCabeza\", \"Carmen Emilia\", \"Medilaser\", \"Moncaleano\"]]\n",
    "diagnostico.head()\n"
   ]
  },
  {
   "cell_type": "markdown",
   "metadata": {},
   "source": [
    "####  balancear la data\n",
    "\n",
    "Undersampling = se reduce el número de muestras de la clase mayoritaria para igualarlo al de la clase minoritaria.\n",
    " Oversampling = se aumentan las muestras de la clase minoritaria para igualarlas a la clase mayoritaria."
   ]
  },
  {
   "cell_type": "markdown",
   "metadata": {},
   "source": [
    "#### oversampling"
   ]
  },
  {
   "cell_type": "code",
   "execution_count": 126,
   "metadata": {},
   "outputs": [
    {
     "data": {
      "text/plain": [
       "DiagnosticoCovid\n",
       "0    60\n",
       "1    60\n",
       "Name: count, dtype: int64"
      ]
     },
     "execution_count": 126,
     "metadata": {},
     "output_type": "execute_result"
    }
   ],
   "source": [
    "# verificar el número de registros por categoría en la variable objetivo (predictora o clasificadora)  \n",
    "df_final['DiagnosticoCovid'].value_counts()\n",
    "\n",
    "# separar las clases en dos grupos  \n",
    "df_mayor = df_final[df_final.DiagnosticoCovid == 0]  # clase mayoritaria (Diagnóstico negativo)  \n",
    "df_menor = df_final[df_final.DiagnosticoCovid == 1]  # clase minoritaria (Diagnóstico positivo)  \n",
    "\n",
    "# aplicar sobremuestreo (oversampling) a la clase minoritaria  \n",
    "df_minoritaria = resample(df_menor,  \n",
    "                          replace=True,       # se permite la repetición de muestras (duplicados)  \n",
    "                          n_samples=60,       # se aumentan las muestras a 60 para equilibrar  \n",
    "                          random_state=123)   # se fija una semilla para reproducibilidad  \n",
    "\n",
    "# combinar la clase mayoritaria con la clase minoritaria sobremuestreada  \n",
    "df_over = pd.concat([df_mayor, df_minoritaria])  \n",
    "\n",
    "# verificar el balance de clases después del oversampling \n",
    "df_over.DiagnosticoCovid.value_counts()"
   ]
  },
  {
   "cell_type": "markdown",
   "metadata": {},
   "source": [
    "#### under sampling"
   ]
  },
  {
   "cell_type": "code",
   "execution_count": 127,
   "metadata": {},
   "outputs": [
    {
     "data": {
      "text/plain": [
       "DiagnosticoCovid\n",
       "0    39\n",
       "1    39\n",
       "Name: count, dtype: int64"
      ]
     },
     "execution_count": 127,
     "metadata": {},
     "output_type": "execute_result"
    }
   ],
   "source": [
    "# Submuestreo (undersampling) de la clase mayoritaria para equilibrar la cantidad de datos  \n",
    "df_mayoritaria = resample(df_mayor,  \n",
    "                          replace=False,      # No se permite la repetición de muestras  \n",
    "                          n_samples=39,       # Se seleccionan 39 muestras aleatorias  \n",
    "                          random_state=123)   # Se fija una semilla para reproducibilidad  \n",
    "\n",
    "# Combinar la clase mayoritaria reducida con la clase minoritaria  \n",
    "df_under = pd.concat([df_mayoritaria, df_menor])  \n",
    "\n",
    "# Mostrar el conteo de registros por categoría en la columna DiagnosticoCovid  \n",
    "df_under.DiagnosticoCovid.value_counts()"
   ]
  },
  {
   "cell_type": "markdown",
   "metadata": {},
   "source": [
    "#### normalizacion (cuando la data no es normal)"
   ]
  },
  {
   "cell_type": "code",
   "execution_count": 128,
   "metadata": {},
   "outputs": [
    {
     "data": {
      "text/html": [
       "<div>\n",
       "<style scoped>\n",
       "    .dataframe tbody tr th:only-of-type {\n",
       "        vertical-align: middle;\n",
       "    }\n",
       "\n",
       "    .dataframe tbody tr th {\n",
       "        vertical-align: top;\n",
       "    }\n",
       "\n",
       "    .dataframe thead th {\n",
       "        text-align: right;\n",
       "    }\n",
       "</style>\n",
       "<table border=\"1\" class=\"dataframe\">\n",
       "  <thead>\n",
       "    <tr style=\"text-align: right;\">\n",
       "      <th></th>\n",
       "      <th>Variable</th>\n",
       "      <th>Valores P</th>\n",
       "      <th>Concepto</th>\n",
       "    </tr>\n",
       "  </thead>\n",
       "  <tbody>\n",
       "    <tr>\n",
       "      <th>0</th>\n",
       "      <td>Edad</td>\n",
       "      <td>1.430404e-08</td>\n",
       "      <td>No es una variable Normal</td>\n",
       "    </tr>\n",
       "    <tr>\n",
       "      <th>1</th>\n",
       "      <td>Genero</td>\n",
       "      <td>2.537548e-15</td>\n",
       "      <td>No es una variable Normal</td>\n",
       "    </tr>\n",
       "    <tr>\n",
       "      <th>2</th>\n",
       "      <td>Temperatura</td>\n",
       "      <td>1.067276e-04</td>\n",
       "      <td>No es una variable Normal</td>\n",
       "    </tr>\n",
       "    <tr>\n",
       "      <th>3</th>\n",
       "      <td>DolorCabeza</td>\n",
       "      <td>1.120521e-15</td>\n",
       "      <td>No es una variable Normal</td>\n",
       "    </tr>\n",
       "    <tr>\n",
       "      <th>4</th>\n",
       "      <td>Fiebre</td>\n",
       "      <td>1.985306e-14</td>\n",
       "      <td>No es una variable Normal</td>\n",
       "    </tr>\n",
       "    <tr>\n",
       "      <th>5</th>\n",
       "      <td>DiagnosticoCovid</td>\n",
       "      <td>1.242345e-14</td>\n",
       "      <td>No es una variable Normal</td>\n",
       "    </tr>\n",
       "    <tr>\n",
       "      <th>6</th>\n",
       "      <td>Carmen Emilia</td>\n",
       "      <td>4.091982e-15</td>\n",
       "      <td>No es una variable Normal</td>\n",
       "    </tr>\n",
       "    <tr>\n",
       "      <th>7</th>\n",
       "      <td>Medilaser</td>\n",
       "      <td>4.091982e-15</td>\n",
       "      <td>No es una variable Normal</td>\n",
       "    </tr>\n",
       "    <tr>\n",
       "      <th>8</th>\n",
       "      <td>Moncaleano</td>\n",
       "      <td>4.091982e-15</td>\n",
       "      <td>No es una variable Normal</td>\n",
       "    </tr>\n",
       "  </tbody>\n",
       "</table>\n",
       "</div>"
      ],
      "text/plain": [
       "           Variable     Valores P                   Concepto\n",
       "0              Edad  1.430404e-08  No es una variable Normal\n",
       "1            Genero  2.537548e-15  No es una variable Normal\n",
       "2       Temperatura  1.067276e-04  No es una variable Normal\n",
       "3       DolorCabeza  1.120521e-15  No es una variable Normal\n",
       "4            Fiebre  1.985306e-14  No es una variable Normal\n",
       "5  DiagnosticoCovid  1.242345e-14  No es una variable Normal\n",
       "6     Carmen Emilia  4.091982e-15  No es una variable Normal\n",
       "7         Medilaser  4.091982e-15  No es una variable Normal\n",
       "8        Moncaleano  4.091982e-15  No es una variable Normal"
      ]
     },
     "execution_count": 128,
     "metadata": {},
     "output_type": "execute_result"
    }
   ],
   "source": [
    "data_shapiro = test_shapiro_wilk(df_final)\n",
    "data_shapiro"
   ]
  },
  {
   "cell_type": "code",
   "execution_count": 129,
   "metadata": {},
   "outputs": [
    {
     "data": {
      "text/plain": [
       "<Axes: >"
      ]
     },
     "execution_count": 129,
     "metadata": {},
     "output_type": "execute_result"
    },
    {
     "data": {
      "image/png": "[encoded data removed]",
      "text/plain": [
       "<Figure size 640x480 with 1 Axes>"
      ]
     },
     "metadata": {},
     "output_type": "display_data"
    }
   ],
   "source": [
    "# grafico de caja \n",
    "df_final.plot.box() # no hay normalidad en los datos al no tener las mismas medias."
   ]
  },
  {
   "cell_type": "code",
   "execution_count": 130,
   "metadata": {},
   "outputs": [
    {
     "data": {
      "text/plain": [
       "<Axes: >"
      ]
     },
     "execution_count": 130,
     "metadata": {},
     "output_type": "execute_result"
    },
    {
     "data": {
      "image/png": "[encoded data removed]",
      "text/plain": [
       "<Figure size 640x480 with 1 Axes>"
      ]
     },
     "metadata": {},
     "output_type": "display_data"
    }
   ],
   "source": [
    "# normalizar data\n",
    "data_normalizada = normalizar_data(df_final)\n",
    "# grafico de caja\n",
    "data_normalizada.plot.box() # nivelacion de los datos"
   ]
  },
  {
   "cell_type": "markdown",
   "metadata": {},
   "source": [
    "#### estandarización (cuando la data es normal)"
   ]
  },
  {
   "cell_type": "code",
   "execution_count": 131,
   "metadata": {},
   "outputs": [
    {
     "data": {
      "text/plain": [
       "<Axes: >"
      ]
     },
     "execution_count": 131,
     "metadata": {},
     "output_type": "execute_result"
    },
    {
     "data": {
      "image/png": "[encoded data removed]",
      "text/plain": [
       "<Figure size 640x480 with 1 Axes>"
      ]
     },
     "metadata": {},
     "output_type": "display_data"
    }
   ],
   "source": [
    "# estandarizacion\n",
    "data_estandarizada = estandarizar_data(df_final)\n",
    "# grafico de cajas\n",
    "data_estandarizada.plot.box() # hay ruido porque la data no es normal."
   ]
  },
  {
   "cell_type": "markdown",
   "metadata": {},
   "source": [
    "#### correlaciones"
   ]
  },
  {
   "cell_type": "code",
   "execution_count": 132,
   "metadata": {},
   "outputs": [
    {
     "data": {
      "text/html": [
       "<div>\n",
       "<style scoped>\n",
       "    .dataframe tbody tr th:only-of-type {\n",
       "        vertical-align: middle;\n",
       "    }\n",
       "\n",
       "    .dataframe tbody tr th {\n",
       "        vertical-align: top;\n",
       "    }\n",
       "\n",
       "    .dataframe thead th {\n",
       "        text-align: right;\n",
       "    }\n",
       "</style>\n",
       "<table border=\"1\" class=\"dataframe\">\n",
       "  <thead>\n",
       "    <tr style=\"text-align: right;\">\n",
       "      <th></th>\n",
       "      <th>variable_1</th>\n",
       "      <th>variable_2</th>\n",
       "      <th>r</th>\n",
       "      <th>abs_r</th>\n",
       "    </tr>\n",
       "  </thead>\n",
       "  <tbody>\n",
       "    <tr>\n",
       "      <th>61</th>\n",
       "      <td>Carmen Emilia</td>\n",
       "      <td>Medilaser</td>\n",
       "      <td>-5.000000e-01</td>\n",
       "      <td>5.000000e-01</td>\n",
       "    </tr>\n",
       "    <tr>\n",
       "      <th>79</th>\n",
       "      <td>Moncaleano</td>\n",
       "      <td>Medilaser</td>\n",
       "      <td>-5.000000e-01</td>\n",
       "      <td>5.000000e-01</td>\n",
       "    </tr>\n",
       "    <tr>\n",
       "      <th>71</th>\n",
       "      <td>Medilaser</td>\n",
       "      <td>Moncaleano</td>\n",
       "      <td>-5.000000e-01</td>\n",
       "      <td>5.000000e-01</td>\n",
       "    </tr>\n",
       "    <tr>\n",
       "      <th>69</th>\n",
       "      <td>Medilaser</td>\n",
       "      <td>Carmen Emilia</td>\n",
       "      <td>-5.000000e-01</td>\n",
       "      <td>5.000000e-01</td>\n",
       "    </tr>\n",
       "    <tr>\n",
       "      <th>78</th>\n",
       "      <td>Moncaleano</td>\n",
       "      <td>Carmen Emilia</td>\n",
       "      <td>-5.000000e-01</td>\n",
       "      <td>5.000000e-01</td>\n",
       "    </tr>\n",
       "    <tr>\n",
       "      <th>...</th>\n",
       "      <td>...</td>\n",
       "      <td>...</td>\n",
       "      <td>...</td>\n",
       "      <td>...</td>\n",
       "    </tr>\n",
       "    <tr>\n",
       "      <th>53</th>\n",
       "      <td>DiagnosticoCovid</td>\n",
       "      <td>Moncaleano</td>\n",
       "      <td>-8.971499e-18</td>\n",
       "      <td>8.971499e-18</td>\n",
       "    </tr>\n",
       "    <tr>\n",
       "      <th>52</th>\n",
       "      <td>DiagnosticoCovid</td>\n",
       "      <td>Medilaser</td>\n",
       "      <td>4.485750e-18</td>\n",
       "      <td>4.485750e-18</td>\n",
       "    </tr>\n",
       "    <tr>\n",
       "      <th>68</th>\n",
       "      <td>Medilaser</td>\n",
       "      <td>DiagnosticoCovid</td>\n",
       "      <td>4.485750e-18</td>\n",
       "      <td>4.485750e-18</td>\n",
       "    </tr>\n",
       "    <tr>\n",
       "      <th>59</th>\n",
       "      <td>Carmen Emilia</td>\n",
       "      <td>DiagnosticoCovid</td>\n",
       "      <td>2.242875e-18</td>\n",
       "      <td>2.242875e-18</td>\n",
       "    </tr>\n",
       "    <tr>\n",
       "      <th>51</th>\n",
       "      <td>DiagnosticoCovid</td>\n",
       "      <td>Carmen Emilia</td>\n",
       "      <td>2.242875e-18</td>\n",
       "      <td>2.242875e-18</td>\n",
       "    </tr>\n",
       "  </tbody>\n",
       "</table>\n",
       "<p>72 rows × 4 columns</p>\n",
       "</div>"
      ],
      "text/plain": [
       "          variable_1        variable_2             r         abs_r\n",
       "61     Carmen Emilia         Medilaser -5.000000e-01  5.000000e-01\n",
       "79        Moncaleano         Medilaser -5.000000e-01  5.000000e-01\n",
       "71         Medilaser        Moncaleano -5.000000e-01  5.000000e-01\n",
       "69         Medilaser     Carmen Emilia -5.000000e-01  5.000000e-01\n",
       "78        Moncaleano     Carmen Emilia -5.000000e-01  5.000000e-01\n",
       "..               ...               ...           ...           ...\n",
       "53  DiagnosticoCovid        Moncaleano -8.971499e-18  8.971499e-18\n",
       "52  DiagnosticoCovid         Medilaser  4.485750e-18  4.485750e-18\n",
       "68         Medilaser  DiagnosticoCovid  4.485750e-18  4.485750e-18\n",
       "59     Carmen Emilia  DiagnosticoCovid  2.242875e-18  2.242875e-18\n",
       "51  DiagnosticoCovid     Carmen Emilia  2.242875e-18  2.242875e-18\n",
       "\n",
       "[72 rows x 4 columns]"
      ]
     },
     "execution_count": 132,
     "metadata": {},
     "output_type": "execute_result"
    }
   ],
   "source": [
    "matriz_correlacion= data_estandarizada.corr(method='pearson')\n",
    "tidy_correlacion_matriz(matriz_correlacion)"
   ]
  },
  {
   "cell_type": "code",
   "execution_count": 133,
   "metadata": {},
   "outputs": [
    {
     "data": {
      "image/png": "[encoded data removed]",
      "text/plain": [
       "<Figure size 500x500 with 1 Axes>"
      ]
     },
     "metadata": {},
     "output_type": "display_data"
    }
   ],
   "source": [
    "# matriz\n",
    "fig, ax = plt.subplots(nrows=1, ncols=1, figsize=(5, 5))\n",
    "\n",
    "sns.heatmap(\n",
    "    matriz_correlacion,\n",
    "    annot     = True,\n",
    "    cbar      = False,\n",
    "    annot_kws = {\"size\": 8},\n",
    "    vmin      = -1,\n",
    "    vmax      = 1,\n",
    "    center    = 0,\n",
    "    cmap      = sns.diverging_palette(15, 150, n=100),\n",
    "    square    = True,\n",
    "    ax        = ax\n",
    ")\n",
    "\n",
    "ax.set_xticklabels(\n",
    "    ax.get_xticklabels(),\n",
    "    rotation = 45,\n",
    "    horizontalalignment = 'right',\n",
    ")\n",
    "\n",
    "ax.tick_params(labelsize = 10)"
   ]
  },
  {
   "cell_type": "markdown",
   "metadata": {},
   "source": [
    "#### Cómo leer esta matriz de correlación\n",
    "\n",
    "Valores entre -1 y 1\n",
    "\n",
    "Cercanos a 1: Correlación positiva fuerte (cuando una variable aumenta, la otra también).<br>\n",
    "Cercanos a -1: Correlación negativa fuerte (cuando una variable aumenta, la otra disminuye).<br>\n",
    "Cercanos a 0: No hay relación entre las variables.<br>\n",
    "\n",
    "Colores\n",
    "\n",
    "Verde oscuro: Correlación positiva fuerte.<br>\n",
    "Rojo oscuro: Correlación negativa fuerte.<br>\n",
    "Colores claros: Correlaciones débiles o cercanas a 0.<br>"
   ]
  },
  {
   "cell_type": "markdown",
   "metadata": {},
   "source": [
    "#### Conclusiones\n",
    "\n",
    "La correlación más fuerte negativa es entre \"Edad\" y \"Temperatura\" con -0.42 (cuando una sube, la otra baja).<br>\n",
    "\n",
    "No hay correlaciones fuertes con \"DiagnosticoCovid\", lo que sugiere que estas variables por sí solas no son suficientes para predecir el diagnóstico."
   ]
  },
  {
   "cell_type": "code",
   "execution_count": 136,
   "metadata": {},
   "outputs": [],
   "source": [
    "# exportar data limpia y normalizada\n",
    "# data_normalizada.to_csv(r\"data_limpia.csv\")"
   ]
  }
 ],
 "metadata": {
  "kernelspec": {
   "display_name": "venv",
   "language": "python",
   "name": "python3"
  },
  "language_info": {
   "codemirror_mode": {
    "name": "ipython",
    "version": 3
   },
   "file_extension": ".py",
   "mimetype": "text/x-python",
   "name": "python",
   "nbconvert_exporter": "python",
   "pygments_lexer": "ipython3",
   "version": "3.11.9"
  }
 },
 "nbformat": 4,
 "nbformat_minor": 2
}
